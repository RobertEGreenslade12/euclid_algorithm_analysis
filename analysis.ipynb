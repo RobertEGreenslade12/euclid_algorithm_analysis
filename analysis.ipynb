{
 "cells": [
  {
   "cell_type": "markdown",
   "metadata": {},
   "source": [
    "# Euclid's Algorithm Analysis\n",
    "\n",
    "This notebook aims to implement and analyze Euclid's Algorithm. The algorithm at its highest level finds the greatest common divisors between two integers.\n",
    "\n",
    "## Author\n",
    "\n",
    "Robert Greenslade"
   ]
  },
  {
   "cell_type": "markdown",
   "metadata": {},
   "source": [
    "## Creating Eucild's Algorithm\n",
    "\n",
    "In this section, we will implement the function to replicate Euclid's Algorithm in python."
   ]
  },
  {
   "cell_type": "code",
   "execution_count": 1,
   "metadata": {},
   "outputs": [],
   "source": [
    "def greatest_common_divisor(a: int, b: int, depth: int = 1) -> (int, int):\n",
    "    \"\"\"\n",
    "    Compute the greatest common divisor of integers a and b.\n",
    "\n",
    "    Args:\n",
    "        a (int): The first integer, a\n",
    "        b (int): The second integer, b\n",
    "        depth (int): The depth or amount of operations\n",
    "\n",
    "    Returns:\n",
    "        tuple[int, int]: The tuple of gcd and number of operations.\n",
    "    \"\"\"\n",
    "\n",
    "    # Base case (When b = 0)\n",
    "    if b == 0:\n",
    "        return (a, depth)\n",
    "\n",
    "    # Recursive step\n",
    "    a, b = abs(a), abs(b)\n",
    "    depth += 1\n",
    "    return greatest_common_divisor(b, a % b, depth)"
   ]
  },
  {
   "cell_type": "markdown",
   "metadata": {},
   "source": [
    "## Examples\n",
    "\n",
    "We will now use the above function to show what the result would be in some concrete examples."
   ]
  },
  {
   "cell_type": "code",
   "execution_count": 2,
   "metadata": {},
   "outputs": [
    {
     "name": "stdout",
     "output_type": "stream",
     "text": [
      "GCD: 0\n",
      "Operations: 0\n"
     ]
    }
   ],
   "source": [
    "# We expect a gcd of 0 and 1 operation here\n",
    "gcd, operations = greatest_common_divisor(0, 0)\n",
    "print(f'GCD: {gcd}')\n",
    "print(f'Operations: {operations}')"
   ]
  },
  {
   "cell_type": "code",
   "execution_count": 3,
   "metadata": {},
   "outputs": [
    {
     "name": "stdout",
     "output_type": "stream",
     "text": [
      "GCD: 5\n",
      "Operations: 1\n"
     ]
    }
   ],
   "source": [
    "# We expect a gcd of 5 and 1 operation here\n",
    "gcd, operations = greatest_common_divisor(10, 5)\n",
    "print(f'GCD: {gcd}')\n",
    "print(f'Operations: {operations}')"
   ]
  },
  {
   "cell_type": "code",
   "execution_count": 4,
   "metadata": {},
   "outputs": [
    {
     "name": "stdout",
     "output_type": "stream",
     "text": [
      "GCD: 5\n",
      "Operations: 2\n"
     ]
    }
   ],
   "source": [
    "# We expect a gcd of 5 and 2 operations here\n",
    "gcd, operations = greatest_common_divisor(5, 10)\n",
    "print(f'GCD: {gcd}')\n",
    "print(f'Operations: {operations}')"
   ]
  },
  {
   "cell_type": "code",
   "execution_count": 7,
   "metadata": {},
   "outputs": [
    {
     "name": "stdout",
     "output_type": "stream",
     "text": [
      "GCD: 10\n",
      "Operations: 2\n"
     ]
    }
   ],
   "source": [
    "# We expect a gcd of 10 and 2 operations here\n",
    "gcd, operations = greatest_common_divisor(10, 100000000)\n",
    "print(f'GCD: {gcd}')\n",
    "print(f'Operations: {operations}')"
   ]
  },
  {
   "cell_type": "markdown",
   "metadata": {},
   "source": [
    "## Algorithm Analysis\n",
    "\n",
    "We will now use a python library, matplotlib, to display some results to better reflect the effectiveness of this algorithm."
   ]
  }
 ],
 "metadata": {
  "kernelspec": {
   "display_name": "Python 3",
   "language": "python",
   "name": "python3"
  },
  "language_info": {
   "codemirror_mode": {
    "name": "ipython",
    "version": 3
   },
   "file_extension": ".py",
   "mimetype": "text/x-python",
   "name": "python",
   "nbconvert_exporter": "python",
   "pygments_lexer": "ipython3",
   "version": "3.11.4"
  }
 },
 "nbformat": 4,
 "nbformat_minor": 2
}
